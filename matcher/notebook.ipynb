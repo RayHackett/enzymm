{
 "cells": [
  {
   "cell_type": "code",
   "execution_count": 39,
   "metadata": {},
   "outputs": [
    {
     "name": "stdout",
     "output_type": "stream",
     "text": [
      "ATOM\n",
      "  0\n",
      " CG \n",
      "Z\n",
      "HIS\n",
      " A\n",
      " 122\n",
      "H     \n",
      "0.81 \n",
      "66\n"
     ]
    }
   ],
   "source": [
    "line = 'ATOM      0  CG ZHIS A 122      -9.481  14.944  20.349 H     0.81 '\n",
    "print(line[0:4])\n",
    "print(line[8:11])\n",
    "print(line[12:16])\n",
    "print(line[16])\n",
    "print(line[17:20])\n",
    "print(line[20:22])\n",
    "print(line[22:26])\n",
    "print(line[55:61])\n",
    "print(line[61:66])\n",
    "print(len(line))\n"
   ]
  },
  {
   "cell_type": "code",
   "execution_count": 47,
   "metadata": {},
   "outputs": [],
   "source": [
    "def format_pdb_line(atom_number, atom_name, altloc, residue_name, chain_id, residue_number, x, y, z, allowed_residues, flexibility):\n",
    "    \"\"\"\n",
    "    Format a line for a PDB file.\n",
    "\n",
    "    Parameters:\n",
    "    atom_number (int): Atom serial number.\n",
    "    atom_name (str): Atom name.\n",
    "    residue_name (str): Residue name.\n",
    "    chain_id (str): Chain identifier.\n",
    "    residue_number (int): Residue sequence number.\n",
    "    x (float): Orthogonal coordinates for X.\n",
    "    y (float): Orthogonal coordinates for Y.\n",
    "    z (float): Orthogonal coordinates for Z.\n",
    "    occupancy (float): Occupancy.\n",
    "    b_factor (float): Temperature factor.\n",
    "\n",
    "    Returns:\n",
    "    str: A string formatted for a PDB file.\n",
    "    \"\"\"\n",
    "\n",
    "    #pdb_line = f\"ATOM  {atom_number:>5} {atom_name:^4}{altloc:>1}{residue_name:<3}{chain_id:>2}{residue_number:>4}    {x:>8.3f}{y:>8.3f}{z:>8.3f} {allowed_residues:<5}{flexibility:>5.2f} \"\n",
    "    if flexibility:\n",
    "        pdb_line = f\"ATOM  {atom_number:>5} {atom_name:^4}{altloc if altloc is not None else '':<1}{residue_name:<3}{chain_id:>2}{residue_number:>4}    {x:>8.3f}{y:>8.3f}{z:>8.3f} {allowed_residues:<5}{flexibility:>5.2f} \"\n",
    "    else:\n",
    "        pdb_line = f\"ATOM  {atom_number:>5} {atom_name:^4}{altloc if altloc is not None else '':<1}{residue_name:<3}{chain_id:>2}{residue_number:>4}    {x:>8.3f}{y:>8.3f}{z:>8.3f} {allowed_residues:<5}{'':<5} \"\n",
    "    return pdb_line\n"
   ]
  },
  {
   "cell_type": "code",
   "execution_count": 51,
   "metadata": {},
   "outputs": [
    {
     "name": "stdout",
     "output_type": "stream",
     "text": [
      "True\n",
      "66\n",
      "ATOM      0  CG ZHIS A 122      -9.481  14.944  20.349 H     0.81 \n",
      "ATOM      0  CG ZHIS A 122      -9.481  14.944  20.349 H     0.81 \n"
     ]
    }
   ],
   "source": [
    "a = format_pdb_line(0, 'CG', 'Z', 'HIS', 'A', 122, -9.481, 14.944, 20.349, 'H', 0.81)\n",
    "print(line == a)\n",
    "print(len(a))\n",
    "print(line)\n",
    "print(a)\n"
   ]
  },
  {
   "cell_type": "code",
   "execution_count": 22,
   "metadata": {},
   "outputs": [
    {
     "name": "stdout",
     "output_type": "stream",
     "text": [
      "[0, 1, 2, 2, 4]\n"
     ]
    }
   ],
   "source": [
    "from typing import List, Dict\n",
    "def ranked_argsort(l: List[int]) -> List[int]:\n",
    "    # Store the index of the first occurence of each value\n",
    "    first_occurence_of_value: Dict = {}\n",
    "    ranks = [0] * len(l)\n",
    "\n",
    "    for i, value in enumerate(l):\n",
    "        if value not in first_occurence_of_value:\n",
    "            first_occurence_of_value[value] = i\n",
    "        # set each element to the index of its occurence\n",
    "        ranks[i] = first_occurence_of_value[value]\n",
    "\n",
    "    return ranks\n",
    "\n",
    "a = ranked_argsort([2, 3, 20, 20, 9])\n",
    "print(a)\n"
   ]
  }
 ],
 "metadata": {
  "kernelspec": {
   "display_name": "python",
   "language": "python",
   "name": "python3"
  },
  "language_info": {
   "codemirror_mode": {
    "name": "ipython",
    "version": 3
   },
   "file_extension": ".py",
   "mimetype": "text/x-python",
   "name": "python",
   "nbconvert_exporter": "python",
   "pygments_lexer": "ipython3",
   "version": "3.12.2"
  }
 },
 "nbformat": 4,
 "nbformat_minor": 2
}
