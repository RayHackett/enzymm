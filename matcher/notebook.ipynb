{
 "cells": [
  {
   "cell_type": "code",
   "execution_count": 1,
   "metadata": {},
   "outputs": [
    {
     "name": "stdout",
     "output_type": "stream",
     "text": [
      " CG \n",
      "HIS\n",
      " A\n",
      " 122\n",
      "H     \n"
     ]
    }
   ],
   "source": [
    "line = 'ATOM      0  CG ZHIS A 122      -9.481  14.944  20.349 H     0.81 '\n",
    "print(line[12:16])\n",
    "print(line[17:20])\n",
    "print(line[20:22])\n",
    "print(line[22:26])\n",
    "print(line[55:61])\n"
   ]
  },
  {
   "cell_type": "code",
   "execution_count": 22,
   "metadata": {},
   "outputs": [
    {
     "name": "stdout",
     "output_type": "stream",
     "text": [
      "[0, 1, 2, 2, 4]\n"
     ]
    }
   ],
   "source": [
    "from typing import List, Dict\n",
    "def ranked_argsort(l: List[int]) -> List[int]:\n",
    "    # Store the index of the first occurence of each value\n",
    "    first_occurence_of_value: Dict = {}\n",
    "    ranks = [0] * len(l)\n",
    "\n",
    "    for i, value in enumerate(l):\n",
    "        if value not in first_occurence_of_value:\n",
    "            first_occurence_of_value[value] = i\n",
    "        # set each element to the index of its occurence\n",
    "        ranks[i] = first_occurence_of_value[value]\n",
    "\n",
    "    return ranks\n",
    "\n",
    "a = ranked_argsort([2, 3, 20, 20, 9])\n",
    "print(a)\n"
   ]
  }
 ],
 "metadata": {
  "kernelspec": {
   "display_name": "python",
   "language": "python",
   "name": "python3"
  },
  "language_info": {
   "codemirror_mode": {
    "name": "ipython",
    "version": 3
   },
   "file_extension": ".py",
   "mimetype": "text/x-python",
   "name": "python",
   "nbconvert_exporter": "python",
   "pygments_lexer": "ipython3",
   "version": "3.12.1"
  }
 },
 "nbformat": 4,
 "nbformat_minor": 2
}
