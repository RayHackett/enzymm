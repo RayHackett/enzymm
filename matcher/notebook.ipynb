{
 "cells": [
  {
   "cell_type": "code",
   "execution_count": 1,
   "metadata": {},
   "outputs": [
    {
     "name": "stdout",
     "output_type": "stream",
     "text": [
      " CG \n",
      "HIS\n",
      " A\n",
      " 122\n",
      "H     \n"
     ]
    }
   ],
   "source": [
    "line = 'ATOM      0  CG ZHIS A 122      -9.481  14.944  20.349 H     0.81 '\n",
    "print(line[12:16])\n",
    "print(line[17:20])\n",
    "print(line[20:22])\n",
    "print(line[22:26])\n",
    "print(line[55:61])\n"
   ]
  },
  {
   "cell_type": "code",
   "execution_count": 4,
   "metadata": {},
   "outputs": [],
   "source": [
    "import re\n"
   ]
  },
  {
   "cell_type": "code",
   "execution_count": 13,
   "metadata": {},
   "outputs": [
    {
     "name": "stdout",
     "output_type": "stream",
     "text": [
      "9.1.-.44\n"
     ]
    }
   ],
   "source": [
    "test = '9.1.-.44'\n",
    "\n",
    "match = re.search(r'\\d{1,2}(\\.(\\-|\\d{1,2})){3}', test)\n",
    "if match:\n",
    "    print(match.group())\n"
   ]
  },
  {
   "cell_type": "code",
   "execution_count": 33,
   "metadata": {},
   "outputs": [
    {
     "name": "stdout",
     "output_type": "stream",
     "text": [
      "doing\n",
      "doing\n",
      "doing\n",
      "doing\n",
      "doing\n",
      "doing\n",
      "doing\n",
      "doing\n",
      "doing\n",
      " (E.C.4.2.1.-)\n",
      "\n",
      "doing\n",
      "doing\n",
      "doing\n",
      "doing\n",
      "the line\n",
      "67\n",
      "ATOM      0  CA ZANY B 139      32.475  41.759 133.259 VIL   0.00 \n",
      "\n",
      "the token\n",
      "['ATOM', '0', 'CA', 'ZANY', 'B', '139', '32.475', '41.759', '133.259', 'VIL', '0.00']\n"
     ]
    },
    {
     "ename": "ValueError",
     "evalue": "",
     "output_type": "error",
     "traceback": [
      "\u001b[0;31m---------------------------------------------------------------------------\u001b[0m",
      "\u001b[0;31mNameError\u001b[0m                                 Traceback (most recent call last)",
      "\u001b[1;32m/exports/archive/lucid-grpzeller-primary/hackett/template_matching/matcher/notebook.ipynb Cell 4\u001b[0m line \u001b[0;36m1\n\u001b[1;32m      <a href='vscode-notebook-cell://ood.lumc.nl/exports/archive/lucid-grpzeller-primary/hackett/template_matching/matcher/notebook.ipynb#W3sdnNjb2RlLXJlbW90ZQ%3D%3D?line=8'>9</a>\u001b[0m \u001b[39melif\u001b[39;00m tokens[\u001b[39m0\u001b[39m] \u001b[39m==\u001b[39m \u001b[39m'\u001b[39m\u001b[39mATOM\u001b[39m\u001b[39m'\u001b[39m:\n\u001b[0;32m---> <a href='vscode-notebook-cell://ood.lumc.nl/exports/archive/lucid-grpzeller-primary/hackett/template_matching/matcher/notebook.ipynb#W3sdnNjb2RlLXJlbW90ZQ%3D%3D?line=9'>10</a>\u001b[0m     atom_lines\u001b[39m.\u001b[39mappend(line)\n\u001b[1;32m     <a href='vscode-notebook-cell://ood.lumc.nl/exports/archive/lucid-grpzeller-primary/hackett/template_matching/matcher/notebook.ipynb#W3sdnNjb2RlLXJlbW90ZQ%3D%3D?line=10'>11</a>\u001b[0m \u001b[39melse\u001b[39;00m:\n",
      "\u001b[0;31mNameError\u001b[0m: name 'atom_lines' is not defined",
      "\nDuring handling of the above exception, another exception occurred:\n",
      "\u001b[0;31mValueError\u001b[0m                                Traceback (most recent call last)",
      "\u001b[1;32m/exports/archive/lucid-grpzeller-primary/hackett/template_matching/matcher/notebook.ipynb Cell 4\u001b[0m line \u001b[0;36m2\n\u001b[1;32m     <a href='vscode-notebook-cell://ood.lumc.nl/exports/archive/lucid-grpzeller-primary/hackett/template_matching/matcher/notebook.ipynb#W3sdnNjb2RlLXJlbW90ZQ%3D%3D?line=17'>18</a>\u001b[0m \u001b[39mprint\u001b[39m(\u001b[39m'\u001b[39m\u001b[39mthe token\u001b[39m\u001b[39m'\u001b[39m)\n\u001b[1;32m     <a href='vscode-notebook-cell://ood.lumc.nl/exports/archive/lucid-grpzeller-primary/hackett/template_matching/matcher/notebook.ipynb#W3sdnNjb2RlLXJlbW90ZQ%3D%3D?line=18'>19</a>\u001b[0m \u001b[39mprint\u001b[39m(tokens)\n\u001b[0;32m---> <a href='vscode-notebook-cell://ood.lumc.nl/exports/archive/lucid-grpzeller-primary/hackett/template_matching/matcher/notebook.ipynb#W3sdnNjb2RlLXJlbW90ZQ%3D%3D?line=19'>20</a>\u001b[0m \u001b[39mraise\u001b[39;00m \u001b[39mValueError\u001b[39;00m\n",
      "\u001b[0;31mValueError\u001b[0m: "
     ]
    }
   ],
   "source": [
    "test = '/exports/archive/lucid-grpzeller-primary/hackett/template_matching/matcher/jess_templates_20230210/3_residues/results/csa3d_0947/csa3d_0947.cluster_3_1_2.1zhg_B139-B142-B143-A147-B133.template.pdb'\n",
    "with open (test, 'r') as f:\n",
    "    try:\n",
    "        for line in f.readlines():\n",
    "            if line.strip():\n",
    "                tokens = line.split()\n",
    "                if tokens[0] == 'REMARK':\n",
    "                    print('doing')\n",
    "                elif tokens[0] == 'ATOM':\n",
    "                    atom_lines.append(line)\n",
    "                else:\n",
    "                    print(line)\n",
    "                    continue\n",
    "    except:\n",
    "        print('the line')\n",
    "        print(len(line))\n",
    "        print(line)\n",
    "        print('the token')\n",
    "        print(tokens)\n",
    "        raise ValueError\n"
   ]
  }
 ],
 "metadata": {
  "kernelspec": {
   "display_name": "python",
   "language": "python",
   "name": "python3"
  },
  "language_info": {
   "codemirror_mode": {
    "name": "ipython",
    "version": 3
   },
   "file_extension": ".py",
   "mimetype": "text/x-python",
   "name": "python",
   "nbconvert_exporter": "python",
   "pygments_lexer": "ipython3",
   "version": "3.12.1"
  }
 },
 "nbformat": 4,
 "nbformat_minor": 2
}
