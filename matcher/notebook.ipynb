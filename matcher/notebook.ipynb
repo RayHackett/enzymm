{
 "cells": [
  {
   "cell_type": "code",
   "execution_count": 1,
   "metadata": {},
   "outputs": [
    {
     "name": "stdout",
     "output_type": "stream",
     "text": [
      " CG \n",
      "HIS\n",
      " A\n",
      " 122\n",
      "H     \n"
     ]
    }
   ],
   "source": [
    "line = 'ATOM      0  CG ZHIS A 122      -9.481  14.944  20.349 H     0.81 '\n",
    "print(line[12:16])\n",
    "print(line[17:20])\n",
    "print(line[20:22])\n",
    "print(line[22:26])\n",
    "print(line[55:61])\n"
   ]
  },
  {
   "cell_type": "code",
   "execution_count": 15,
   "metadata": {},
   "outputs": [
    {
     "name": "stdout",
     "output_type": "stream",
     "text": [
      "Result 1: 5\n",
      "Result 2: 5\n"
     ]
    }
   ],
   "source": [
    "def myfunct(test: int, add: int) -> int:\n",
    "    \"\"\"\n",
    "    Adds the 'test' and 'add' values and returns the result.\n",
    "\n",
    "    Args:\n",
    "        test (int): First value.\n",
    "        add (int): Second value.\n",
    "\n",
    "    Returns:\n",
    "        int: Sum of 'test' and 'add'.\n",
    "    \"\"\"\n",
    "    return test - add\n",
    "\n",
    "# Example usage:\n",
    "result1 = myfunct(test=10, add=5)  # Explicitly specify parameter names\n",
    "result2 = myfunct(add=5, test=10)  # Order doesn't matter\n",
    "\n",
    "print(f\"Result 1: {result1}\")\n",
    "print(f\"Result 2: {result2}\")\n"
   ]
  },
  {
   "cell_type": "code",
   "execution_count": 8,
   "metadata": {},
   "outputs": [],
   "source": [
    "import itertools\n",
    "\n",
    "class Person:\n",
    "    def __init__(self, name, age):\n",
    "        self.name = name\n",
    "        self.age = age\n",
    "\n",
    "p1 = Person(\"John\", 36)\n",
    "p3 = Person(\"John1\", 36)\n",
    "p2 = Person(\"John2\", 36)\n",
    "p4 = Person(\"John1\", 36)\n",
    "\n",
    "test_hits = [p1, p2, p3, p4]\n",
    "\n",
    "def get_key(obj):\n",
    "    return obj.name, obj.age\n",
    "\n",
    "grouped_hits = [list(g) for _, g in itertools.groupby(sorted(test_hits, key=get_key), get_key)]\n"
   ]
  },
  {
   "cell_type": "code",
   "execution_count": 13,
   "metadata": {},
   "outputs": [],
   "source": [
    "\n"
   ]
  },
  {
   "cell_type": "code",
   "execution_count": 14,
   "metadata": {},
   "outputs": [
    {
     "data": {
      "text/plain": [
       "[[<__main__.Person at 0x7ff8400b61b0>],\n",
       " [<__main__.Person at 0x7ff8400b5bb0>, <__main__.Person at 0x7ff8400b6000>],\n",
       " [<__main__.Person at 0x7ff8400b6840>]]"
      ]
     },
     "execution_count": 14,
     "metadata": {},
     "output_type": "execute_result"
    }
   ],
   "source": [
    "grouped_hits\n"
   ]
  },
  {
   "cell_type": "code",
   "execution_count": 34,
   "metadata": {},
   "outputs": [],
   "source": [
    "# for testing python code here\n"
   ]
  }
 ],
 "metadata": {
  "kernelspec": {
   "display_name": "python",
   "language": "python",
   "name": "python3"
  },
  "language_info": {
   "codemirror_mode": {
    "name": "ipython",
    "version": 3
   },
   "file_extension": ".py",
   "mimetype": "text/x-python",
   "name": "python",
   "nbconvert_exporter": "python",
   "pygments_lexer": "ipython3",
   "version": "3.12.1"
  }
 },
 "nbformat": 4,
 "nbformat_minor": 2
}
