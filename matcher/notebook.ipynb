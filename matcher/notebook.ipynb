{
 "cells": [
  {
   "cell_type": "code",
   "execution_count": 1,
   "metadata": {},
   "outputs": [
    {
     "name": "stdout",
     "output_type": "stream",
     "text": [
      " CG \n",
      "HIS\n",
      " A\n",
      " 122\n",
      "H     \n"
     ]
    }
   ],
   "source": [
    "line = 'ATOM      0  CG ZHIS A 122      -9.481  14.944  20.349 H     0.81 '\n",
    "print(line[12:16])\n",
    "print(line[17:20])\n",
    "print(line[20:22])\n",
    "print(line[22:26])\n",
    "print(line[55:61])\n"
   ]
  },
  {
   "cell_type": "code",
   "execution_count": 22,
   "metadata": {},
   "outputs": [
    {
     "name": "stdout",
     "output_type": "stream",
     "text": [
      "[0, 1, 2, 2, 4]\n"
     ]
    }
   ],
   "source": [
    "from typing import List, Dict\n",
    "def ranked_argsort(l: List[int]) -> List[int]:\n",
    "    # Store the index of the first occurence of each value\n",
    "    first_occurence_of_value: Dict = {}\n",
    "    ranks = [0] * len(l)\n",
    "\n",
    "    for i, value in enumerate(l):\n",
    "        if value not in first_occurence_of_value:\n",
    "            first_occurence_of_value[value] = i\n",
    "        # set each element to the index of its occurence\n",
    "        ranks[i] = first_occurence_of_value[value]\n",
    "\n",
    "    return ranks\n",
    "\n",
    "a = ranked_argsort([2, 3, 20, 20, 9])\n",
    "print(a)\n"
   ]
  },
  {
   "cell_type": "code",
   "execution_count": 33,
   "metadata": {},
   "outputs": [
    {
     "name": "stdout",
     "output_type": "stream",
     "text": [
      "[(0, 0), (2, 6), (3, 1), (3, 4), (9, 3), (20, 2), (20, 5)]\n",
      "[1, 3, 5, 4, 3, 5, 2]\n"
     ]
    }
   ],
   "source": [
    "def rank_with_duplicates(lst):\n",
    "    sorted_lst = sorted([(e,i) for i,e in enumerate(lst)])\n",
    "    print(sorted_lst)\n",
    "    rank = 0\n",
    "    ranks = [0]*len(lst)\n",
    "    prev_val = None\n",
    "    for i in range(len(sorted_lst)):\n",
    "        if sorted_lst[i][0] != prev_val:\n",
    "            prev_val = sorted_lst[i][0]\n",
    "            rank += 1\n",
    "        ranks[sorted_lst[i][1]] = rank\n",
    "    return ranks\n",
    "\n",
    "# Example usage\n",
    "my_list = [0, 3, 20, 9, 3, 20, 2]\n",
    "result = rank_with_duplicates(my_list)\n",
    "print(result)\n",
    "\n",
    "\n",
    "\n",
    "\n",
    "\n"
   ]
  },
  {
   "cell_type": "code",
   "execution_count": 37,
   "metadata": {},
   "outputs": [
    {
     "name": "stdout",
     "output_type": "stream",
     "text": [
      "[1, 3, 5, 4, 3, 5, 2]\n"
     ]
    }
   ],
   "source": [
    "def rank_with_duplicates(lst):\n",
    "    unique_values = sorted(set(lst))\n",
    "    ranks = {v: i+1 for i, v in enumerate(unique_values)}\n",
    "    return [ranks[i] for i in lst]\n",
    "\n",
    "# Example usage\n",
    "my_list = [0, 3, 20, 9, 3, 20, 2]\n",
    "result = rank_with_duplicates(my_list)\n",
    "print(result)\n",
    "\n"
   ]
  }
 ],
 "metadata": {
  "kernelspec": {
   "display_name": "python",
   "language": "python",
   "name": "python3"
  },
  "language_info": {
   "codemirror_mode": {
    "name": "ipython",
    "version": 3
   },
   "file_extension": ".py",
   "mimetype": "text/x-python",
   "name": "python",
   "nbconvert_exporter": "python",
   "pygments_lexer": "ipython3",
   "version": "3.12.1"
  }
 },
 "nbformat": 4,
 "nbformat_minor": 2
}
