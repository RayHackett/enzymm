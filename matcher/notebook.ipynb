{
 "cells": [
  {
   "cell_type": "code",
   "execution_count": 2,
   "metadata": {},
   "outputs": [
    {
     "name": "stdout",
     "output_type": "stream",
     "text": [
      "ATOM  \n",
      "    3\n",
      "CA Z\n",
      "Z\n",
      "THR\n",
      " B\n",
      " 141\n",
      "T     \n",
      "0.00 \n",
      "66\n"
     ]
    }
   ],
   "source": [
    "line = 'ATOM      0  CG ZHIS A 122      -9.481  14.944  20.349 H     0.81 '\n",
    "line = 'ATOM      3  CA ZTHR B 141     -18.537 -18.286 -15.536 T     0.00 '\n",
    "mzli = 'ATOM      3  CA ZTHR B 141     -18.537 -18.286 -15.536 T          '\n",
    "print(line[0:6])\n",
    "print(line[6:11])\n",
    "print(line[13:17])\n",
    "print(line[16])\n",
    "print(line[17:20])\n",
    "print(line[20:22])\n",
    "print(line[22:26])\n",
    "print(line[55:61])\n",
    "print(line[61:66])\n",
    "print(len(line))\n"
   ]
  },
  {
   "cell_type": "code",
   "execution_count": null,
   "metadata": {},
   "outputs": [],
   "source": [
    "'ATOM   1410  OD1 ASP A 179      -35.930 -15.788 -21.649  1.00 16.59     O'\n",
    "'ATOM   2767  OE2 GLU A 349     -37.682 -11.619 -16.774  1.00 40.16           O '\n",
    "'ATOM   1410  OD1 ASP A 179       1.266  67.144  30.660  1.00 16.59           O  \n",
    "'ATOM   1074  OD1 ASP A 138      -6.946  66.277  41.900  1.00  2.00           O  '"
   ]
  },
  {
   "cell_type": "code",
   "execution_count": 7,
   "metadata": {},
   "outputs": [],
   "source": [
    "def format_pdb_line(atom_number, atom_name, altloc, residue_name, chain_id, residue_number, x, y, z, allowed_residues, flexibility):\n",
    "    \"\"\"\n",
    "    Format a line for a PDB file.\n",
    "\n",
    "    Parameters:\n",
    "    atom_number (int): Atom serial number.\n",
    "    atom_name (str): Atom name.\n",
    "    residue_name (str): Residue name.\n",
    "    chain_id (str): Chain identifier.\n",
    "    residue_number (int): Residue sequence number.\n",
    "    x (float): Orthogonal coordinates for X.\n",
    "    y (float): Orthogonal coordinates for Y.\n",
    "    z (float): Orthogonal coordinates for Z.\n",
    "    occupancy (float): Occupancy.\n",
    "    b_factor (float): Temperature factor.\n",
    "\n",
    "    Returns:\n",
    "    str: A string formatted for a PDB file.\n",
    "    \"\"\"\n",
    "\n",
    "    #pdb_line = f\"ATOM  {atom_number:>5} {atom_name:^4}{altloc:>1}{residue_name:<3}{chain_id:>2}{residue_number:>4}    {x:>8.3f}{y:>8.3f}{z:>8.3f} {allowed_residues:<5}{flexibility:>5.2f} \"\n",
    "    if flexibility:\n",
    "        pdb_line = f\"ATOM  {atom_number:>5} {atom_name:^4}{altloc if altloc is not None else '':<1}{residue_name:<3}{chain_id:>2}{residue_number:>4}    {x:>8.3f}{y:>8.3f}{z:>8.3f} {allowed_residues:<5}{flexibility:>5.2f} \"\n",
    "    else:\n",
    "        pdb_line = f\"ATOM  {atom_number:>5} {atom_name:^4}{altloc if altloc is not None else '':<1}{residue_name:<3}{chain_id:>2}{residue_number:>4}    {x:>8.3f}{y:>8.3f}{z:>8.3f} {allowed_residues:<5}{'':<5} \"\n",
    "    return pdb_line\n"
   ]
  },
  {
   "cell_type": "code",
   "execution_count": 8,
   "metadata": {},
   "outputs": [
    {
     "ename": "NameError",
     "evalue": "name 'self' is not defined",
     "output_type": "error",
     "traceback": [
      "\u001b[0;31m---------------------------------------------------------------------------\u001b[0m",
      "\u001b[0;31mNameError\u001b[0m                                 Traceback (most recent call last)",
      "Cell \u001b[0;32mIn[8], line 1\u001b[0m\n\u001b[0;32m----> 1\u001b[0m a \u001b[38;5;241m=\u001b[39m \u001b[43mformat_pdb_line\u001b[49m\u001b[43m(\u001b[49m\u001b[38;5;241;43m0\u001b[39;49m\u001b[43m,\u001b[49m\u001b[43m \u001b[49m\u001b[38;5;124;43m'\u001b[39;49m\u001b[38;5;124;43mCG\u001b[39;49m\u001b[38;5;124;43m'\u001b[39;49m\u001b[43m,\u001b[49m\u001b[43m \u001b[49m\u001b[38;5;124;43m'\u001b[39;49m\u001b[38;5;124;43mZ\u001b[39;49m\u001b[38;5;124;43m'\u001b[39;49m\u001b[43m,\u001b[49m\u001b[43m \u001b[49m\u001b[38;5;124;43m'\u001b[39;49m\u001b[38;5;124;43mHIS\u001b[39;49m\u001b[38;5;124;43m'\u001b[39;49m\u001b[43m,\u001b[49m\u001b[43m \u001b[49m\u001b[38;5;124;43m'\u001b[39;49m\u001b[38;5;124;43mA\u001b[39;49m\u001b[38;5;124;43m'\u001b[39;49m\u001b[43m,\u001b[49m\u001b[43m \u001b[49m\u001b[38;5;241;43m122\u001b[39;49m\u001b[43m,\u001b[49m\u001b[43m \u001b[49m\u001b[38;5;241;43m-\u001b[39;49m\u001b[38;5;241;43m9.481\u001b[39;49m\u001b[43m,\u001b[49m\u001b[43m \u001b[49m\u001b[38;5;241;43m14.944\u001b[39;49m\u001b[43m,\u001b[49m\u001b[43m \u001b[49m\u001b[38;5;241;43m20.349\u001b[39;49m\u001b[43m,\u001b[49m\u001b[43m \u001b[49m\u001b[38;5;124;43m'\u001b[39;49m\u001b[38;5;124;43mH\u001b[39;49m\u001b[38;5;124;43m'\u001b[39;49m\u001b[43m,\u001b[49m\u001b[43m \u001b[49m\u001b[38;5;241;43m0.81\u001b[39;49m\u001b[43m)\u001b[49m\n\u001b[1;32m      2\u001b[0m \u001b[38;5;28mprint\u001b[39m(line \u001b[38;5;241m==\u001b[39m a)\n\u001b[1;32m      3\u001b[0m \u001b[38;5;28mprint\u001b[39m(\u001b[38;5;28mlen\u001b[39m(a))\n",
      "Cell \u001b[0;32mIn[7], line 23\u001b[0m, in \u001b[0;36mformat_pdb_line\u001b[0;34m(atom_number, atom_name, altloc, residue_name, chain_id, residue_number, x, y, z, allowed_residues, flexibility)\u001b[0m\n\u001b[1;32m     21\u001b[0m \u001b[38;5;66;03m#pdb_line = f\"ATOM  {atom_number:>5} {atom_name:^4}{altloc:>1}{residue_name:<3}{chain_id:>2}{residue_number:>4}    {x:>8.3f}{y:>8.3f}{z:>8.3f} {allowed_residues:<5}{flexibility:>5.2f} \"\u001b[39;00m\n\u001b[1;32m     22\u001b[0m \u001b[38;5;28;01mif\u001b[39;00m flexibility:\n\u001b[0;32m---> 23\u001b[0m     pdb_line \u001b[38;5;241m=\u001b[39m \u001b[38;5;124mf\u001b[39m\u001b[38;5;124m\"\u001b[39m\u001b[38;5;132;01m{\u001b[39;00m\u001b[38;5;28;43mself\u001b[39;49m\u001b[38;5;241m.\u001b[39mfield_type\u001b[38;5;132;01m}\u001b[39;00m\u001b[38;5;132;01m{\u001b[39;00m\u001b[38;5;28mself\u001b[39m\u001b[38;5;241m.\u001b[39mspecificity\u001b[38;5;132;01m:\u001b[39;00m\u001b[38;5;124m>5\u001b[39m\u001b[38;5;132;01m}\u001b[39;00m\u001b[38;5;124m \u001b[39m\u001b[38;5;132;01m{\u001b[39;00m\u001b[38;5;28mself\u001b[39m\u001b[38;5;241m.\u001b[39mname\u001b[38;5;132;01m:\u001b[39;00m\u001b[38;5;124m^4\u001b[39m\u001b[38;5;132;01m}\u001b[39;00m\u001b[38;5;132;01m{\u001b[39;00m\u001b[38;5;28mself\u001b[39m\u001b[38;5;241m.\u001b[39maltloc\u001b[38;5;250m \u001b[39m\u001b[38;5;28;01mif\u001b[39;00m\u001b[38;5;250m \u001b[39m\u001b[38;5;28mself\u001b[39m\u001b[38;5;241m.\u001b[39maltloc\u001b[38;5;250m \u001b[39m\u001b[38;5;129;01mis\u001b[39;00m\u001b[38;5;250m \u001b[39m\u001b[38;5;129;01mnot\u001b[39;00m\u001b[38;5;250m \u001b[39m\u001b[38;5;28;01mNone\u001b[39;00m\u001b[38;5;250m \u001b[39m\u001b[38;5;28;01melse\u001b[39;00m\u001b[38;5;250m \u001b[39m\u001b[38;5;124m'\u001b[39m\u001b[38;5;124m'\u001b[39m\u001b[38;5;132;01m:\u001b[39;00m\u001b[38;5;124m<1\u001b[39m\u001b[38;5;132;01m}\u001b[39;00m\u001b[38;5;132;01m{\u001b[39;00m\u001b[38;5;28mself\u001b[39m\u001b[38;5;241m.\u001b[39mresidue_name\u001b[38;5;132;01m:\u001b[39;00m\u001b[38;5;124m<3\u001b[39m\u001b[38;5;132;01m}\u001b[39;00m\u001b[38;5;132;01m{\u001b[39;00m\u001b[38;5;28mself\u001b[39m\u001b[38;5;241m.\u001b[39mchain_id\u001b[38;5;132;01m:\u001b[39;00m\u001b[38;5;124m>2\u001b[39m\u001b[38;5;132;01m}\u001b[39;00m\u001b[38;5;132;01m{\u001b[39;00m\u001b[38;5;28mself\u001b[39m\u001b[38;5;241m.\u001b[39mresidue_number\u001b[38;5;132;01m:\u001b[39;00m\u001b[38;5;124m>4\u001b[39m\u001b[38;5;132;01m}\u001b[39;00m\u001b[38;5;124m    \u001b[39m\u001b[38;5;132;01m{\u001b[39;00m\u001b[38;5;28mself\u001b[39m\u001b[38;5;241m.\u001b[39mx\u001b[38;5;132;01m:\u001b[39;00m\u001b[38;5;124m>8.3f\u001b[39m\u001b[38;5;132;01m}\u001b[39;00m\u001b[38;5;132;01m{\u001b[39;00m\u001b[38;5;28mself\u001b[39m\u001b[38;5;241m.\u001b[39my\u001b[38;5;132;01m:\u001b[39;00m\u001b[38;5;124m>8.3f\u001b[39m\u001b[38;5;132;01m}\u001b[39;00m\u001b[38;5;132;01m{\u001b[39;00m\u001b[38;5;28mself\u001b[39m\u001b[38;5;241m.\u001b[39mz\u001b[38;5;132;01m:\u001b[39;00m\u001b[38;5;124m>8.3f\u001b[39m\u001b[38;5;132;01m}\u001b[39;00m\u001b[38;5;124m \u001b[39m\u001b[38;5;132;01m{\u001b[39;00m\u001b[38;5;28mself\u001b[39m\u001b[38;5;241m.\u001b[39mallowed_residues\u001b[38;5;132;01m:\u001b[39;00m\u001b[38;5;124m<5\u001b[39m\u001b[38;5;132;01m}\u001b[39;00m\u001b[38;5;132;01m{\u001b[39;00m\u001b[38;5;28mself\u001b[39m\u001b[38;5;241m.\u001b[39mflexibility\u001b[38;5;132;01m:\u001b[39;00m\u001b[38;5;124m>5.2f\u001b[39m\u001b[38;5;132;01m}\u001b[39;00m\u001b[38;5;124m \u001b[39m\u001b[38;5;130;01m\\n\u001b[39;00m\u001b[38;5;124m\"\u001b[39m\n\u001b[1;32m     24\u001b[0m \u001b[38;5;28;01melse\u001b[39;00m:\n\u001b[1;32m     25\u001b[0m     pdb_line \u001b[38;5;241m=\u001b[39m \u001b[38;5;124mf\u001b[39m\u001b[38;5;124m\"\u001b[39m\u001b[38;5;132;01m{\u001b[39;00m\u001b[38;5;28mself\u001b[39m\u001b[38;5;241m.\u001b[39mfield_type\u001b[38;5;132;01m}\u001b[39;00m\u001b[38;5;132;01m{\u001b[39;00m\u001b[38;5;28mself\u001b[39m\u001b[38;5;241m.\u001b[39mspecificity\u001b[38;5;132;01m:\u001b[39;00m\u001b[38;5;124m>5\u001b[39m\u001b[38;5;132;01m}\u001b[39;00m\u001b[38;5;124m \u001b[39m\u001b[38;5;132;01m{\u001b[39;00m\u001b[38;5;28mself\u001b[39m\u001b[38;5;241m.\u001b[39mname\u001b[38;5;132;01m:\u001b[39;00m\u001b[38;5;124m^4\u001b[39m\u001b[38;5;132;01m}\u001b[39;00m\u001b[38;5;132;01m{\u001b[39;00m\u001b[38;5;28mself\u001b[39m\u001b[38;5;241m.\u001b[39maltloc\u001b[38;5;250m \u001b[39m\u001b[38;5;28;01mif\u001b[39;00m\u001b[38;5;250m \u001b[39m\u001b[38;5;28mself\u001b[39m\u001b[38;5;241m.\u001b[39maltloc\u001b[38;5;250m \u001b[39m\u001b[38;5;129;01mis\u001b[39;00m\u001b[38;5;250m \u001b[39m\u001b[38;5;129;01mnot\u001b[39;00m\u001b[38;5;250m \u001b[39m\u001b[38;5;28;01mNone\u001b[39;00m\u001b[38;5;250m \u001b[39m\u001b[38;5;28;01melse\u001b[39;00m\u001b[38;5;250m \u001b[39m\u001b[38;5;124m'\u001b[39m\u001b[38;5;124m'\u001b[39m\u001b[38;5;132;01m:\u001b[39;00m\u001b[38;5;124m<1\u001b[39m\u001b[38;5;132;01m}\u001b[39;00m\u001b[38;5;132;01m{\u001b[39;00m\u001b[38;5;28mself\u001b[39m\u001b[38;5;241m.\u001b[39mresidue_name\u001b[38;5;132;01m:\u001b[39;00m\u001b[38;5;124m<3\u001b[39m\u001b[38;5;132;01m}\u001b[39;00m\u001b[38;5;132;01m{\u001b[39;00m\u001b[38;5;28mself\u001b[39m\u001b[38;5;241m.\u001b[39mchain_id\u001b[38;5;132;01m:\u001b[39;00m\u001b[38;5;124m>2\u001b[39m\u001b[38;5;132;01m}\u001b[39;00m\u001b[38;5;132;01m{\u001b[39;00m\u001b[38;5;28mself\u001b[39m\u001b[38;5;241m.\u001b[39mresidue_number\u001b[38;5;132;01m:\u001b[39;00m\u001b[38;5;124m>4\u001b[39m\u001b[38;5;132;01m}\u001b[39;00m\u001b[38;5;124m    \u001b[39m\u001b[38;5;132;01m{\u001b[39;00m\u001b[38;5;28mself\u001b[39m\u001b[38;5;241m.\u001b[39mx\u001b[38;5;132;01m:\u001b[39;00m\u001b[38;5;124m>8.3f\u001b[39m\u001b[38;5;132;01m}\u001b[39;00m\u001b[38;5;132;01m{\u001b[39;00m\u001b[38;5;28mself\u001b[39m\u001b[38;5;241m.\u001b[39my\u001b[38;5;132;01m:\u001b[39;00m\u001b[38;5;124m>8.3f\u001b[39m\u001b[38;5;132;01m}\u001b[39;00m\u001b[38;5;132;01m{\u001b[39;00m\u001b[38;5;28mself\u001b[39m\u001b[38;5;241m.\u001b[39mz\u001b[38;5;132;01m:\u001b[39;00m\u001b[38;5;124m>8.3f\u001b[39m\u001b[38;5;132;01m}\u001b[39;00m\u001b[38;5;124m \u001b[39m\u001b[38;5;132;01m{\u001b[39;00m\u001b[38;5;28mself\u001b[39m\u001b[38;5;241m.\u001b[39mallowed_residues\u001b[38;5;132;01m:\u001b[39;00m\u001b[38;5;124m<5\u001b[39m\u001b[38;5;132;01m}\u001b[39;00m\u001b[38;5;132;01m{\u001b[39;00m\u001b[38;5;124m'\u001b[39m\u001b[38;5;124m'\u001b[39m\u001b[38;5;132;01m:\u001b[39;00m\u001b[38;5;124m<5\u001b[39m\u001b[38;5;132;01m}\u001b[39;00m\u001b[38;5;124m \u001b[39m\u001b[38;5;130;01m\\n\u001b[39;00m\u001b[38;5;124m\"\u001b[39m\n",
      "\u001b[0;31mNameError\u001b[0m: name 'self' is not defined"
     ]
    }
   ],
   "source": [
    "a = format_pdb_line(0, 'CG', 'Z', 'HIS', 'A', 122, -9.481, 14.944, 20.349, 'H', 0.81)\n",
    "print(line == a)\n",
    "print(len(a))\n",
    "print(line)\n",
    "print(a)\n"
   ]
  },
  {
   "cell_type": "code",
   "execution_count": 22,
   "metadata": {},
   "outputs": [
    {
     "name": "stdout",
     "output_type": "stream",
     "text": [
      "[0, 1, 2, 2, 4]\n"
     ]
    }
   ],
   "source": [
    "from typing import List, Dict\n",
    "def ranked_argsort(l: List[int]) -> List[int]:\n",
    "    # Store the index of the first occurence of each value\n",
    "    first_occurence_of_value: Dict = {}\n",
    "    ranks = [0] * len(l)\n",
    "\n",
    "    for i, value in enumerate(l):\n",
    "        if value not in first_occurence_of_value:\n",
    "            first_occurence_of_value[value] = i\n",
    "        # set each element to the index of its occurence\n",
    "        ranks[i] = first_occurence_of_value[value]\n",
    "\n",
    "    return ranks\n",
    "\n",
    "a = ranked_argsort([2, 3, 20, 20, 9])\n",
    "print(a)\n"
   ]
  }
 ],
 "metadata": {
  "kernelspec": {
   "display_name": "python",
   "language": "python",
   "name": "python3"
  },
  "language_info": {
   "codemirror_mode": {
    "name": "ipython",
    "version": 3
   },
   "file_extension": ".py",
   "mimetype": "text/x-python",
   "name": "python",
   "nbconvert_exporter": "python",
   "pygments_lexer": "ipython3",
   "version": "3.12.2"
  }
 },
 "nbformat": 4,
 "nbformat_minor": 2
}
