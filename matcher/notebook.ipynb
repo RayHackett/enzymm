{
 "cells": [
  {
   "cell_type": "code",
   "execution_count": 1,
   "metadata": {},
   "outputs": [
    {
     "name": "stdout",
     "output_type": "stream",
     "text": [
      " CG \n",
      "HIS\n",
      " A\n",
      " 122\n",
      "H     \n"
     ]
    }
   ],
   "source": [
    "line = 'ATOM      0  CG ZHIS A 122      -9.481  14.944  20.349 H     0.81 '\n",
    "print(line[12:16])\n",
    "print(line[17:20])\n",
    "print(line[20:22])\n",
    "print(line[22:26])\n",
    "print(line[55:61])\n"
   ]
  },
  {
   "cell_type": "code",
   "execution_count": 34,
   "metadata": {},
   "outputs": [],
   "source": [
    "# for testing python code here\n"
   ]
  }
 ],
 "metadata": {
  "kernelspec": {
   "display_name": "python",
   "language": "python",
   "name": "python3"
  },
  "language_info": {
   "codemirror_mode": {
    "name": "ipython",
    "version": 3
   },
   "file_extension": ".py",
   "mimetype": "text/x-python",
   "name": "python",
   "nbconvert_exporter": "python",
   "pygments_lexer": "ipython3",
   "version": "3.12.1"
  }
 },
 "nbformat": 4,
 "nbformat_minor": 2
}
